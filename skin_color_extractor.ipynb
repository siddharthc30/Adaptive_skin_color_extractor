{
 "cells": [
  {
   "cell_type": "code",
   "execution_count": 1,
   "metadata": {},
   "outputs": [],
   "source": [
    "import cv2\n",
    "import numpy as np\n",
    "from imutils import face_utils\n",
    "import imutils\n",
    "import dlib"
   ]
  },
  {
   "cell_type": "code",
   "execution_count": 10,
   "metadata": {},
   "outputs": [],
   "source": [
    "image = cv2.imread('/home/siddharth/Pictures/Webcam/face.jpg')\n",
    "image = imutils.resize(image, width=500)\n",
    "gray = cv2.cvtColor(image, cv2.COLOR_BGR2GRAY)\n",
    "\n",
    "overlay=image.copy()\n",
    "output=image.copy()\n",
    "p=\"shape_predictor_68_face_landmarks.dat\"\n",
    "\n",
    "detector = dlib.get_frontal_face_detector()\n",
    "predictor = dlib.shape_predictor(p)\n",
    "\n",
    "rects = detector(gray, 1)\n",
    "points=[]\n",
    " \n",
    "for d in rects:\n",
    "    cv2.rectangle(image, (d.left(), d.top()), (d.right(), d.bottom()), 255, 1)\n",
    "    shape = predictor(image, d)\n",
    "    shape = face_utils.shape_to_np(shape)\n",
    "    #points =shape[27:36]\n",
    "    (x, y, w, h) = cv2.boundingRect(np.array([shape[27:36]]))\n",
    "    roi = image[y:y + h, x:x + w]\n",
    "    \n",
    "    #hull = cv2.convexHull(points)\n",
    "    #image = cv2.drawContours(image, [hull], -1,(0, 255, 0) , -1)\n",
    "    #cv2.circle(image, (p.x, p.y), 2, 255, 1)\n",
    "    #cv2.putText(image, str(i), (p.x + 4, p.y), cv2.FONT_HERSHEY_SIMPLEX, 0.25, (255, 255, 255))\n",
    "    \n",
    "cv2.imshow(\"ROI\", roi)\n",
    "cv2.imshow(\"window\", image)\n",
    "cv2.waitKey(0)\n",
    "cv2.destroyAllWindows()\n",
    "\n",
    "    \n",
    "#shape = predictor(gray, rects) \n",
    "#shape = face_utils.shape_to_np(shape)\n",
    "    \n",
    "\n",
    "#nose=(27,35)\n",
    "\n",
    "#required_pts=shape[27:35]\n",
    "\n",
    "#hull = cv2.convexHull(required_pts)\n",
    "#cv2.drawContours(overlay, [hull], -1,(0, 255, 0) , -1)\n",
    "#cv2.addWeighted(overlay, alpha, output, 1 - alpha, 0, output)\n",
    "\n"
   ]
  },
  {
   "cell_type": "code",
   "execution_count": 11,
   "metadata": {},
   "outputs": [
    {
     "name": "stdout",
     "output_type": "stream",
     "text": [
      "[[ 76.66176471 126.14705882 129.52941176]\n",
      " [ 75.83823529 126.36764706 129.35294118]\n",
      " [ 73.55882353 126.80882353 129.25      ]\n",
      " [ 72.61764706 127.05882353 128.80882353]\n",
      " [ 71.55882353 127.44117647 128.38235294]\n",
      " [ 70.52941176 127.69117647 128.16176471]\n",
      " [ 70.39705882 127.91176471 127.47058824]\n",
      " [ 72.85294118 128.45588235 127.32352941]\n",
      " [ 76.13235294 128.58823529 126.94117647]\n",
      " [ 80.13235294 128.82352941 126.61764706]\n",
      " [ 86.79411765 129.19117647 126.45588235]\n",
      " [ 91.79411765 129.05882353 126.05882353]\n",
      " [ 96.14705882 128.91176471 125.98529412]\n",
      " [100.79411765 129.04411765 126.05882353]\n",
      " [108.52941176 128.94117647 125.89705882]\n",
      " [112.94117647 129.19117647 126.10294118]\n",
      " [117.23529412 129.35294118 126.07352941]\n",
      " [121.69117647 129.51470588 126.        ]\n",
      " [125.79411765 129.98529412 126.30882353]\n",
      " [127.47058824 130.14705882 126.39705882]\n",
      " [127.83823529 130.35294118 126.48529412]\n",
      " [127.45588235 130.54411765 126.67647059]\n",
      " [126.95588235 130.61764706 126.80882353]\n",
      " [124.85294118 130.64705882 126.88235294]\n",
      " [122.33823529 130.60294118 127.        ]\n",
      " [119.38235294 130.47058824 127.01470588]\n",
      " [113.94117647 130.26470588 127.20588235]\n",
      " [109.86764706 129.98529412 127.29411765]\n",
      " [106.07352941 129.69117647 127.32352941]\n",
      " [102.51470588 129.47058824 127.42647059]\n",
      " [ 96.27941176 128.98529412 127.52941176]\n",
      " [ 93.55882353 128.82352941 127.48529412]\n",
      " [ 89.95588235 128.61764706 127.64705882]\n",
      " [ 84.94117647 128.13235294 127.79411765]\n",
      " [ 77.77941176 127.23529412 127.79411765]\n",
      " [ 74.70588235 126.98529412 128.01470588]\n",
      " [ 72.58823529 126.95588235 128.14705882]\n",
      " [ 71.52941176 127.08823529 128.54411765]\n",
      " [ 70.45588235 126.97058824 128.66176471]\n",
      " [ 70.73529412 126.98529412 128.88235294]\n",
      " [ 71.67647059 127.17647059 129.17647059]\n",
      " [ 74.57352941 127.10294118 129.39705882]\n",
      " [ 76.29411765 127.13235294 129.82352941]\n",
      " [ 76.54411765 127.07352941 129.86764706]\n",
      " [ 77.19117647 127.02941176 129.89705882]\n",
      " [ 79.86764706 126.97058824 130.02941176]\n",
      " [ 81.23529412 126.85294118 130.01470588]]\n"
     ]
    }
   ],
   "source": [
    "Ycr=cv2.cvtColor(roi,cv2.COLOR_BGR2YCrCb)\n",
    "ymean=np.mean(Ycr,axis = 0)\n",
    "print(ymean)"
   ]
  },
  {
   "cell_type": "code",
   "execution_count": 48,
   "metadata": {},
   "outputs": [],
   "source": [
    "min_YCrCb = np.array([60,120,110],np.uint8)\n",
    "max_YCrCb = np.array([220,170,170],np.uint8)\n",
    "\n",
    "image = cv2.imread(\"/home/siddharth/Pictures/Webcam/face.jpg\")\n",
    "imageYCrCb = cv2.cvtColor(image,cv2.COLOR_BGR2YCR_CB)\n",
    "skinRegionYCrCb = cv2.inRange(imageYCrCb,min_YCrCb,max_YCrCb)\n",
    "\n",
    "skinYCrCb = cv2.bitwise_and(image, image, mask = skinRegionYCrCb)\n",
    "cv2.imshow('Seg',skinYCrCb) \n",
    "cv2.waitKey(0)\n",
    "cv2.destroyAllWindows()"
   ]
  },
  {
   "cell_type": "code",
   "execution_count": 49,
   "metadata": {},
   "outputs": [],
   "source": [
    "cap=cv2.VideoCapture(0)\n",
    "while True:\n",
    "    ret,img=cap.read()\n",
    "    imageYCrCb = cv2.cvtColor(img,cv2.COLOR_BGR2YCR_CB)\n",
    "    skinRegionYCrCb = cv2.inRange(imageYCrCb,min_YCrCb,max_YCrCb)\n",
    "\n",
    "    skinYCrCb = cv2.bitwise_and(img, img, mask = skinRegionYCrCb)\n",
    "    cv2.imshow('img',skinYCrCb)\n",
    "    if cv2.waitKey(1) == 13:\n",
    "        break\n",
    "cap.release()\n",
    "cv2.destroyAllWindows()"
   ]
  },
  {
   "cell_type": "code",
   "execution_count": null,
   "metadata": {},
   "outputs": [],
   "source": [
    "\n",
    "  \n",
    "    \n",
    "    "
   ]
  }
 ],
 "metadata": {
  "kernelspec": {
   "display_name": "Python 3",
   "language": "python",
   "name": "python3"
  },
  "language_info": {
   "codemirror_mode": {
    "name": "ipython",
    "version": 3
   },
   "file_extension": ".py",
   "mimetype": "text/x-python",
   "name": "python",
   "nbconvert_exporter": "python",
   "pygments_lexer": "ipython3",
   "version": "3.7.6"
  }
 },
 "nbformat": 4,
 "nbformat_minor": 4
}
